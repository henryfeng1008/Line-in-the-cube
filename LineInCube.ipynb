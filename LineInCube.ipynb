{
 "cells": [
  {
   "cell_type": "code",
   "execution_count": 4,
   "metadata": {
    "collapsed": true
   },
   "outputs": [
    {
     "name": "stdout",
     "output_type": "stream",
     "text": [
      "program start\nreading in file\npreprocessing files\nstart training\n"
     ]
    },
    {
     "name": "stdout",
     "output_type": "stream",
     "text": [
      "Elapsed time: 0:00:11.02\nBest step: 2000, Last successful step: 2500\n"
     ]
    },
    {
     "name": "stdout",
     "output_type": "stream",
     "text": [
      "Final score (RMSE): 0.14236295223236084\n"
     ]
    }
   ],
   "source": [
    "import functions as fc\n",
    "import pandas as pd\n",
    "import os\n",
    "from sklearn.model_selection import train_test_split\n",
    "from sklearn import metrics\n",
    "import tensorflow.contrib.learn as learn\n",
    "import tensorflow as tf\n",
    "import numpy as np\n",
    "import time\n",
    "\n",
    "print(\"program start\")\n",
    "tf.logging.set_verbosity(tf.logging.ERROR)\n",
    "\n",
    "path = \"./data/\"\n",
    "print(\"reading in file\")\n",
    "filename_train = os.path.join(path,\"Little_training_dataset.csv\")\n",
    "filename_test = os.path.join(path,\"testing_dataset.csv\")\n",
    "filename_compare = os.path.join(path,\"compare.csv\")\n",
    "\n",
    "df_train = pd.read_csv(filename_train,na_values=['NA','?'])\n",
    "#df_test = pd.read_csv(filename_test,na_values=['NA','?'])\n",
    "\n",
    "print(\"preprocessing files\")\n",
    "fc.encode_numeric_zscore(df_train,'center_to_line')\n",
    "fc.encode_numeric_zscore(df_train,'line_in_sphere')\n",
    "\n",
    "x, y = fc.to_xy(df_train , 'line_in_cube')\n",
    "\n",
    "x_train, x_test, y_train, y_test = train_test_split(\n",
    "    x, y, test_size=0.20, random_state=42)\n",
    "\n",
    "model_dir = fc.get_model_dir('LineInCube',True)\n",
    "\n",
    "feature_columns = [tf.contrib.layers.real_valued_column(\"\", dimension=x.shape[1])]\n",
    "\n",
    "regressor = learn.DNNRegressor(\n",
    "    model_dir= model_dir,\n",
    "    config=tf.contrib.learn.RunConfig(save_checkpoints_steps=500),\n",
    "    feature_columns=feature_columns,\n",
    "    hidden_units=[50, 25, 10])\n",
    "    #hidden_units=[2, 3, 1])\n",
    "\n",
    "\n",
    "validation_monitor = tf.contrib.learn.monitors.ValidationMonitor(\n",
    "    x_test,\n",
    "    y_test,\n",
    "    every_n_steps=500,\n",
    "    early_stopping_metric=\"loss\",\n",
    "    early_stopping_metric_minimize=True,\n",
    "    early_stopping_rounds=50)\n",
    "\n",
    "\n",
    "start_time = time.time()\n",
    "print(\"start training\")\n",
    "regressor.fit(x_train, y_train,monitors=[validation_monitor],steps=10000)\n",
    "elapsed_time = time.time() - start_time\n",
    "print(\"Elapsed time: {}\".format(fc.hms_string(elapsed_time)))\n",
    "print(\"Best step: {}, Last successful step: {}\".format(\n",
    "validation_monitor.best_step,validation_monitor._last_successful_step))\n",
    "# Predict\n",
    "pred = list(regressor.predict(x_test, as_iterable=True))\n",
    "score = np.sqrt(metrics.mean_squared_error(pred,y_test))\n",
    "print(\"Final score (RMSE): {}\".format(score))"
   ]
  },
  {
   "cell_type": "code",
   "execution_count": 10,
   "metadata": {},
   "outputs": [
    {
     "name": "stdout",
     "output_type": "stream",
     "text": [
      "WARNING:tensorflow:From /Library/Frameworks/Python.framework/Versions/3.6/lib/python3.6/site-packages/tensorflow/python/util/deprecation.py:347: calling DNNRegressor.predict (from tensorflow.contrib.learn.python.learn.estimators.dnn) with outputs=None is deprecated and will be removed after 2017-03-01.\nInstructions for updating:\nPlease switch to predict_scores, or set `outputs` argument.\n"
     ]
    },
    {
     "name": "stdout",
     "output_type": "stream",
     "text": [
      "WARNING:tensorflow:From /Library/Frameworks/Python.framework/Versions/3.6/lib/python3.6/site-packages/tensorflow/contrib/learn/python/learn/estimators/dnn.py:744: calling BaseEstimator.predict (from tensorflow.contrib.learn.python.learn.estimators.estimator) with x is deprecated and will be removed after 2016-12-01.\nInstructions for updating:\nEstimator is decoupled from Scikit Learn interface by moving into\nseparate class SKCompat. Arguments x, y and batch_size are only\navailable in the SKCompat class, Estimator will only accept input_fn.\nExample conversion:\n  est = Estimator(...) -> est = SKCompat(Estimator(...))\n"
     ]
    },
    {
     "name": "stdout",
     "output_type": "stream",
     "text": [
      "INFO:tensorflow:Restoring parameters from ./dnn/LineInCube/model.ckpt-2500\n"
     ]
    },
    {
     "name": "stdout",
     "output_type": "stream",
     "text": [
      "Final score (RMSE): 0.14182955026626587\nINFO:tensorflow:Using config: {'_task_type': None, '_task_id': 0, '_cluster_spec': <tensorflow.python.training.server_lib.ClusterSpec object at 0x115a46748>, '_master': '', '_num_ps_replicas': 0, '_num_worker_replicas': 0, '_environment': 'local', '_is_chief': True, '_evaluation_master': '', '_tf_config': gpu_options {\n  per_process_gpu_memory_fraction: 1\n}\n, '_tf_random_seed': None, '_save_summary_steps': 100, '_save_checkpoints_secs': None, '_session_config': None, '_save_checkpoints_steps': 500, '_keep_checkpoint_max': 5, '_keep_checkpoint_every_n_hours': 10000, '_model_dir': './dnn/LineInCube'}\n"
     ]
    },
    {
     "name": "stdout",
     "output_type": "stream",
     "text": [
      "WARNING:tensorflow:From /Library/Frameworks/Python.framework/Versions/3.6/lib/python3.6/site-packages/tensorflow/python/util/deprecation.py:347: calling DNNRegressor.predict (from tensorflow.contrib.learn.python.learn.estimators.dnn) with outputs=None is deprecated and will be removed after 2017-03-01.\nInstructions for updating:\nPlease switch to predict_scores, or set `outputs` argument.\n"
     ]
    },
    {
     "name": "stdout",
     "output_type": "stream",
     "text": [
      "WARNING:tensorflow:From /Library/Frameworks/Python.framework/Versions/3.6/lib/python3.6/site-packages/tensorflow/contrib/learn/python/learn/estimators/dnn.py:744: calling BaseEstimator.predict (from tensorflow.contrib.learn.python.learn.estimators.estimator) with x is deprecated and will be removed after 2016-12-01.\nInstructions for updating:\nEstimator is decoupled from Scikit Learn interface by moving into\nseparate class SKCompat. Arguments x, y and batch_size are only\navailable in the SKCompat class, Estimator will only accept input_fn.\nExample conversion:\n  est = Estimator(...) -> est = SKCompat(Estimator(...))\n"
     ]
    },
    {
     "name": "stdout",
     "output_type": "stream",
     "text": [
      "INFO:tensorflow:Restoring parameters from ./dnn/LineInCube/model.ckpt-2500\n"
     ]
    },
    {
     "name": "stdout",
     "output_type": "stream",
     "text": [
      "Final score (RMSE): 0.14182955026626587\n"
     ]
    }
   ],
   "source": [
    "#from tensorflow.python.training import saver\n",
    "#saver.\n",
    "# Predict\n",
    "tf.logging.set_verbosity(tf.logging.INFO)\n",
    "pred = list(regressor.predict(x_test, as_iterable=True))\n",
    "score = np.sqrt(metrics.mean_squared_error(pred,y_test))\n",
    "print(\"Final score (RMSE): {}\".format(score))\n",
    "\n",
    "saver = learn.DNNRegressor(\n",
    "    model_dir= model_dir,\n",
    "    config=tf.contrib.learn.RunConfig(save_checkpoints_steps=500),\n",
    "    feature_columns=feature_columns,\n",
    "    hidden_units=[50, 25, 10])\n",
    "\n",
    "pred = list(saver.predict(x_test, as_iterable=True))\n",
    "score = np.sqrt(metrics.mean_squared_error(pred,y_test))\n",
    "print(\"Final score (RMSE): {}\".format(score))"
   ]
  },
  {
   "cell_type": "code",
   "execution_count": 15,
   "metadata": {},
   "outputs": [],
   "source": [
    "import csv\n",
    "fileHeader = ['mean','std']\n",
    "center_to_line = [df_train['center_to_line'].mean(), df_train['center_to_line'].std()]\n",
    "line_in_sphere = [df_train['line_in_sphere'].mean(), df_train['line_in_sphere'].std()]\n",
    "csvFile = open(\"./param/param.csv\",\"w\")\n",
    "writer = csv.writer(csvFile)\n",
    "writer.writerow(fileHeader)\n",
    "writer.writerow(center_to_line)\n",
    "writer.writerow(line_in_sphere)\n",
    "csvFile.close()"
   ]
  },
  {
   "cell_type": "code",
   "execution_count": 33,
   "metadata": {},
   "outputs": [
    {
     "name": "stdout",
     "output_type": "stream",
     "text": [
      "           mean  std\n0 -3.552714e-17  1.0\n1 -1.232348e-16  1.0\n"
     ]
    },
    {
     "data": {
      "text/plain": [
       "numpy.float64"
      ]
     },
     "execution_count": 33,
     "metadata": {},
     "output_type": "execute_result"
    }
   ],
   "source": [
    "mean = [df_train['center_to_line'].mean(), df_train['line_in_sphere'].mean()]\n",
    "std = [df_train['center_to_line'].std(), df_train['line_in_sphere'].std()]\n",
    "content = {'mean':mean,'std':std}\n",
    "df_param = pd.DataFrame(data = content)\n",
    "df_param.to_csv(\"./param/param.csv\",index=False)\n",
    "print(df)\n",
    "df['mean'][0]\n",
    "type(df['mean'][0] + df['mean'][1])"
   ]
  },
  {
   "cell_type": "code",
   "execution_count": null,
   "metadata": {},
   "outputs": [],
   "source": [
    ""
   ]
  }
 ],
 "metadata": {
  "kernelspec": {
   "display_name": "Python 2",
   "language": "python",
   "name": "python2"
  },
  "language_info": {
   "codemirror_mode": {
    "name": "ipython",
    "version": 2.0
   },
   "file_extension": ".py",
   "mimetype": "text/x-python",
   "name": "python",
   "nbconvert_exporter": "python",
   "pygments_lexer": "ipython2",
   "version": "2.7.6"
  }
 },
 "nbformat": 4,
 "nbformat_minor": 0
}